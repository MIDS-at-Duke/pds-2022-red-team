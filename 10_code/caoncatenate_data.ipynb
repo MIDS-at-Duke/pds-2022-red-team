{
 "cells": [
  {
   "cell_type": "code",
   "execution_count": 42,
   "metadata": {},
   "outputs": [],
   "source": [
    "import pandas as pd\n",
    "import numpy as np"
   ]
  },
  {
   "cell_type": "code",
   "execution_count": 9,
   "metadata": {},
   "outputs": [],
   "source": [
    "root = ['https://raw.githubusercontent.com/MIDS-at-Duke/pds-2022-red-team/main/00_source_data/US_VitalStatistics/Underlying%20Cause%20of%20Death%2C%202003.txt?token=GHSAT0AAAAAABZL3TDWMAAEZGADCVDLZRK2Y3MJVHA',\n",
    "'https://raw.githubusercontent.com/MIDS-at-Duke/pds-2022-red-team/main/00_source_data/US_VitalStatistics/Underlying%20Cause%20of%20Death%2C%202004.txt?token=GHSAT0AAAAAABZL3TDXSZUJGNLIHOU6TQXIY3MJX4Q',\n",
    "'https://raw.githubusercontent.com/MIDS-at-Duke/pds-2022-red-team/main/00_source_data/US_VitalStatistics/Underlying%20Cause%20of%20Death%2C%202005.txt?token=GHSAT0AAAAAABZL3TDWQAZPZYYDNC2M6G46Y3MJYKQ',\n",
    "'https://raw.githubusercontent.com/MIDS-at-Duke/pds-2022-red-team/main/00_source_data/US_VitalStatistics/Underlying%20Cause%20of%20Death%2C%202006.txt?token=GHSAT0AAAAAABZL3TDWBGSDCNH7EVXPARA4Y3MJYVA',\n",
    "'https://raw.githubusercontent.com/MIDS-at-Duke/pds-2022-red-team/main/00_source_data/US_VitalStatistics/Underlying%20Cause%20of%20Death%2C%202007.txt?token=GHSAT0AAAAAABZL3TDXMW7NMOF43UOZKA54Y3MJ4FA',\n",
    "'https://raw.githubusercontent.com/MIDS-at-Duke/pds-2022-red-team/main/00_source_data/US_VitalStatistics/Underlying%20Cause%20of%20Death%2C%202008.txt?token=GHSAT0AAAAAABZL3TDXGNJNYHURXROTD5AEY3MJ45A',\n",
    "'https://raw.githubusercontent.com/MIDS-at-Duke/pds-2022-red-team/main/00_source_data/US_VitalStatistics/Underlying%20Cause%20of%20Death%2C%202009.txt?token=GHSAT0AAAAAABZL3TDWBZFLPU7ARU5UF45CY3MJ5EQ',\n",
    "'https://raw.githubusercontent.com/MIDS-at-Duke/pds-2022-red-team/main/00_source_data/US_VitalStatistics/Underlying%20Cause%20of%20Death%2C%202010.txt?token=GHSAT0AAAAAABZL3TDW5WABXLBLMP5MPTMUY3MJ5PA',\n",
    "'https://raw.githubusercontent.com/MIDS-at-Duke/pds-2022-red-team/main/00_source_data/US_VitalStatistics/Underlying%20Cause%20of%20Death%2C%202011.txt?token=GHSAT0AAAAAABZL3TDWQLT7RUM5AXTLGK3AY3MJ5WQ',\n",
    "'https://raw.githubusercontent.com/MIDS-at-Duke/pds-2022-red-team/main/00_source_data/US_VitalStatistics/Underlying%20Cause%20of%20Death%2C%202012.txt?token=GHSAT0AAAAAABZL3TDWGAUY3PLSG5OP6UWCY3MJ62Q',\n",
    "'https://raw.githubusercontent.com/MIDS-at-Duke/pds-2022-red-team/main/00_source_data/US_VitalStatistics/Underlying%20Cause%20of%20Death%2C%202013.txt?token=GHSAT0AAAAAABZL3TDX6IVI4T4E22FXAPWOY3MJ7GA',\n",
    "'https://raw.githubusercontent.com/MIDS-at-Duke/pds-2022-red-team/main/00_source_data/US_VitalStatistics/Underlying%20Cause%20of%20Death%2C%202014.txt?token=GHSAT0AAAAAABZL3TDXG7NJVFUWBDKV6A4UY3MJ7NA',\n",
    "'https://raw.githubusercontent.com/MIDS-at-Duke/pds-2022-red-team/main/00_source_data/US_VitalStatistics/Underlying%20Cause%20of%20Death%2C%202015.txt?token=GHSAT0AAAAAABZL3TDW5XDR6LTD7GUVFVZSY3MJ7UA'\n",
    "]\n"
   ]
  },
  {
   "cell_type": "code",
   "execution_count": 33,
   "metadata": {},
   "outputs": [],
   "source": [
    "data = pd.DataFrame()\n",
    "for i in root:\n",
    "    df = pd.read_csv(i, delimiter='\\t')\n",
    "    df = df[df['Notes'].isna()]\n",
    "    data = pd.concat([data,df], axis = 0, ignore_index=True)"
   ]
  },
  {
   "cell_type": "code",
   "execution_count": 38,
   "metadata": {},
   "outputs": [
    {
     "data": {
      "text/html": [
       "<div>\n",
       "<style scoped>\n",
       "    .dataframe tbody tr th:only-of-type {\n",
       "        vertical-align: middle;\n",
       "    }\n",
       "\n",
       "    .dataframe tbody tr th {\n",
       "        vertical-align: top;\n",
       "    }\n",
       "\n",
       "    .dataframe thead th {\n",
       "        text-align: right;\n",
       "    }\n",
       "</style>\n",
       "<table border=\"1\" class=\"dataframe\">\n",
       "  <thead>\n",
       "    <tr style=\"text-align: right;\">\n",
       "      <th></th>\n",
       "      <th>County</th>\n",
       "      <th>County Code</th>\n",
       "      <th>Year</th>\n",
       "      <th>Year Code</th>\n",
       "      <th>Drug/Alcohol Induced Cause</th>\n",
       "      <th>Drug/Alcohol Induced Cause Code</th>\n",
       "      <th>Deaths</th>\n",
       "    </tr>\n",
       "  </thead>\n",
       "  <tbody>\n",
       "    <tr>\n",
       "      <th>0</th>\n",
       "      <td>Autauga County, AL</td>\n",
       "      <td>1001.0</td>\n",
       "      <td>2003.0</td>\n",
       "      <td>2003.0</td>\n",
       "      <td>All other non-drug and non-alcohol causes</td>\n",
       "      <td>O9</td>\n",
       "      <td>397.0</td>\n",
       "    </tr>\n",
       "    <tr>\n",
       "      <th>1</th>\n",
       "      <td>Baldwin County, AL</td>\n",
       "      <td>1003.0</td>\n",
       "      <td>2003.0</td>\n",
       "      <td>2003.0</td>\n",
       "      <td>Drug poisonings (overdose) Unintentional (X40-...</td>\n",
       "      <td>D1</td>\n",
       "      <td>10.0</td>\n",
       "    </tr>\n",
       "    <tr>\n",
       "      <th>2</th>\n",
       "      <td>Baldwin County, AL</td>\n",
       "      <td>1003.0</td>\n",
       "      <td>2003.0</td>\n",
       "      <td>2003.0</td>\n",
       "      <td>All other alcohol-induced causes</td>\n",
       "      <td>A9</td>\n",
       "      <td>14.0</td>\n",
       "    </tr>\n",
       "    <tr>\n",
       "      <th>3</th>\n",
       "      <td>Baldwin County, AL</td>\n",
       "      <td>1003.0</td>\n",
       "      <td>2003.0</td>\n",
       "      <td>2003.0</td>\n",
       "      <td>All other non-drug and non-alcohol causes</td>\n",
       "      <td>O9</td>\n",
       "      <td>1479.0</td>\n",
       "    </tr>\n",
       "    <tr>\n",
       "      <th>4</th>\n",
       "      <td>Barbour County, AL</td>\n",
       "      <td>1005.0</td>\n",
       "      <td>2003.0</td>\n",
       "      <td>2003.0</td>\n",
       "      <td>All other non-drug and non-alcohol causes</td>\n",
       "      <td>O9</td>\n",
       "      <td>287.0</td>\n",
       "    </tr>\n",
       "    <tr>\n",
       "      <th>...</th>\n",
       "      <td>...</td>\n",
       "      <td>...</td>\n",
       "      <td>...</td>\n",
       "      <td>...</td>\n",
       "      <td>...</td>\n",
       "      <td>...</td>\n",
       "      <td>...</td>\n",
       "    </tr>\n",
       "    <tr>\n",
       "      <th>57236</th>\n",
       "      <td>Sweetwater County, WY</td>\n",
       "      <td>56037.0</td>\n",
       "      <td>2015.0</td>\n",
       "      <td>2015.0</td>\n",
       "      <td>All other non-drug and non-alcohol causes</td>\n",
       "      <td>O9</td>\n",
       "      <td>251</td>\n",
       "    </tr>\n",
       "    <tr>\n",
       "      <th>57237</th>\n",
       "      <td>Teton County, WY</td>\n",
       "      <td>56039.0</td>\n",
       "      <td>2015.0</td>\n",
       "      <td>2015.0</td>\n",
       "      <td>All other non-drug and non-alcohol causes</td>\n",
       "      <td>O9</td>\n",
       "      <td>95</td>\n",
       "    </tr>\n",
       "    <tr>\n",
       "      <th>57238</th>\n",
       "      <td>Uinta County, WY</td>\n",
       "      <td>56041.0</td>\n",
       "      <td>2015.0</td>\n",
       "      <td>2015.0</td>\n",
       "      <td>All other non-drug and non-alcohol causes</td>\n",
       "      <td>O9</td>\n",
       "      <td>142</td>\n",
       "    </tr>\n",
       "    <tr>\n",
       "      <th>57239</th>\n",
       "      <td>Washakie County, WY</td>\n",
       "      <td>56043.0</td>\n",
       "      <td>2015.0</td>\n",
       "      <td>2015.0</td>\n",
       "      <td>All other non-drug and non-alcohol causes</td>\n",
       "      <td>O9</td>\n",
       "      <td>81</td>\n",
       "    </tr>\n",
       "    <tr>\n",
       "      <th>57240</th>\n",
       "      <td>Weston County, WY</td>\n",
       "      <td>56045.0</td>\n",
       "      <td>2015.0</td>\n",
       "      <td>2015.0</td>\n",
       "      <td>All other non-drug and non-alcohol causes</td>\n",
       "      <td>O9</td>\n",
       "      <td>61</td>\n",
       "    </tr>\n",
       "  </tbody>\n",
       "</table>\n",
       "<p>57241 rows × 7 columns</p>\n",
       "</div>"
      ],
      "text/plain": [
       "                      County  County Code    Year  Year Code  \\\n",
       "0         Autauga County, AL       1001.0  2003.0     2003.0   \n",
       "1         Baldwin County, AL       1003.0  2003.0     2003.0   \n",
       "2         Baldwin County, AL       1003.0  2003.0     2003.0   \n",
       "3         Baldwin County, AL       1003.0  2003.0     2003.0   \n",
       "4         Barbour County, AL       1005.0  2003.0     2003.0   \n",
       "...                      ...          ...     ...        ...   \n",
       "57236  Sweetwater County, WY      56037.0  2015.0     2015.0   \n",
       "57237       Teton County, WY      56039.0  2015.0     2015.0   \n",
       "57238       Uinta County, WY      56041.0  2015.0     2015.0   \n",
       "57239    Washakie County, WY      56043.0  2015.0     2015.0   \n",
       "57240      Weston County, WY      56045.0  2015.0     2015.0   \n",
       "\n",
       "                              Drug/Alcohol Induced Cause  \\\n",
       "0              All other non-drug and non-alcohol causes   \n",
       "1      Drug poisonings (overdose) Unintentional (X40-...   \n",
       "2                       All other alcohol-induced causes   \n",
       "3              All other non-drug and non-alcohol causes   \n",
       "4              All other non-drug and non-alcohol causes   \n",
       "...                                                  ...   \n",
       "57236          All other non-drug and non-alcohol causes   \n",
       "57237          All other non-drug and non-alcohol causes   \n",
       "57238          All other non-drug and non-alcohol causes   \n",
       "57239          All other non-drug and non-alcohol causes   \n",
       "57240          All other non-drug and non-alcohol causes   \n",
       "\n",
       "      Drug/Alcohol Induced Cause Code  Deaths  \n",
       "0                                  O9   397.0  \n",
       "1                                  D1    10.0  \n",
       "2                                  A9    14.0  \n",
       "3                                  O9  1479.0  \n",
       "4                                  O9   287.0  \n",
       "...                               ...     ...  \n",
       "57236                              O9     251  \n",
       "57237                              O9      95  \n",
       "57238                              O9     142  \n",
       "57239                              O9      81  \n",
       "57240                              O9      61  \n",
       "\n",
       "[57241 rows x 7 columns]"
      ]
     },
     "execution_count": 38,
     "metadata": {},
     "output_type": "execute_result"
    }
   ],
   "source": [
    "data.drop(columns= 'Notes')"
   ]
  },
  {
   "cell_type": "code",
   "execution_count": 39,
   "metadata": {},
   "outputs": [],
   "source": [
    "data.to_csv('final_data.csv')"
   ]
  },
  {
   "cell_type": "code",
   "execution_count": 44,
   "metadata": {},
   "outputs": [
    {
     "data": {
      "text/plain": [
       "7.835033829029765"
      ]
     },
     "execution_count": 44,
     "metadata": {},
     "output_type": "execute_result"
    }
   ],
   "source": [
    "np.std([2,18,27,16,5,15,18])"
   ]
  },
  {
   "cell_type": "code",
   "execution_count": 45,
   "metadata": {},
   "outputs": [
    {
     "data": {
      "text/plain": [
       "6.137871731125953"
      ]
     },
     "execution_count": 45,
     "metadata": {},
     "output_type": "execute_result"
    }
   ],
   "source": [
    "np.std([3,20,19,15,11,7,6])"
   ]
  },
  {
   "cell_type": "code",
   "execution_count": null,
   "metadata": {},
   "outputs": [],
   "source": [
    "P(a|n) = p(n|a)P(a) / p(n|a)P(a)  + p(n|b)P(b) "
   ]
  },
  {
   "cell_type": "code",
   "execution_count": 46,
   "metadata": {},
   "outputs": [
    {
     "data": {
      "text/plain": [
       "0.2857142857142857"
      ]
     },
     "execution_count": 46,
     "metadata": {},
     "output_type": "execute_result"
    }
   ],
   "source": [
    "1/3 * 20/1000 / (1/3 * 2/100 + 2/3 * 50/2000)"
   ]
  },
  {
   "cell_type": "code",
   "execution_count": null,
   "metadata": {},
   "outputs": [],
   "source": [
    "omega, gamma"
   ]
  }
 ],
 "metadata": {
  "kernelspec": {
   "display_name": "Python 3.9.13 ('base')",
   "language": "python",
   "name": "python3"
  },
  "language_info": {
   "codemirror_mode": {
    "name": "ipython",
    "version": 3
   },
   "file_extension": ".py",
   "mimetype": "text/x-python",
   "name": "python",
   "nbconvert_exporter": "python",
   "pygments_lexer": "ipython3",
   "version": "3.9.13"
  },
  "orig_nbformat": 4,
  "vscode": {
   "interpreter": {
    "hash": "75eac5b057d588d2984486b56cc2cd80c59aa441e7cb177a052bb6a5c1bba9a7"
   }
  }
 },
 "nbformat": 4,
 "nbformat_minor": 2
}
